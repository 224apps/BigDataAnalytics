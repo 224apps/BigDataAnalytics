{
 "cells": [
  {
   "cell_type": "markdown",
   "metadata": {},
   "source": [
    "#### Diagnostic Problem 1\n",
    "Joseph and Jane are making a contest for apes. During the process, they have to communicate<br/>\n",
    "frequently with each other. Since they are not completely human, they cannot speak properly.\n",
    "They have to transfer messages using postcards of small sizes.\n",
    "To save space on the small postcards, they devise a string compression algorithm:\n",
    "● If a character occurs n times in a row, then it will be represented by {char}{n} where {n} is\n",
    "the value of occurrence. For example, if the substring is a sequence of 'a' (\"aaaa\"), it will\n",
    "be represented as \"a4\".<br/>\n",
    "● If a character occurs exactly one time in a row, then it will be simply represented as the\n",
    "character itself. For example, if the substring is \"a\", then it will be represented as \"a\".\n",
    "Help Joseph to compress a message, msg.<br/>\n",
    "\n",
    "Input\n",
    "The only line of input contains a string, msg.\n",
    "Output\n",
    "Print the string msg as a compressed message.\n",
    "<br/>\n",
    "Constraints\n",
    "● 1 >= length(msg)\n",
    "● Msg consists of lowercase English letters (a-z) only\n",
    "Sample Input#1\n",
    "abcaaabbb\n"
   ]
  },
  {
   "cell_type": "code",
   "execution_count": 3,
   "metadata": {},
   "outputs": [
    {
     "name": "stdout",
     "output_type": "stream",
     "text": [
      "abca3b3\n",
      "a5b3c3bca7cd4b3\n",
      "a2b2c2d4\n"
     ]
    }
   ],
   "source": [
    "def compress_algorithm(text):\n",
    "    \n",
    "    # check if it is an empty input\n",
    "    if not text:\n",
    "        return \"\"\n",
    "    \n",
    "    length = len(text)\n",
    "    compressed_text = \"\"\n",
    "    current_char = text[0]\n",
    "    count = 1\n",
    "\n",
    "    for i in range(1, length):\n",
    "        if text[i] == current_char:\n",
    "            count += 1\n",
    "        else:\n",
    "            compressed_text += current_char if count == 1 else current_char + str(count)\n",
    "            current_char = text[i]\n",
    "            count = 1\n",
    "\n",
    "    # Handle the last character or the case when the entire string consists of one character\n",
    "    compressed_text += current_char if count == 1 else current_char + str(count)\n",
    "\n",
    "    return compressed_text\n",
    "\n",
    "\n",
    "# Test cases\n",
    "print(compress_algorithm(\"abcaaabbb\")) # Output: abca3b3\n",
    "print(compress_algorithm(\"aaaaabbbcccbcaaaaaaacddddbbb\"))  # Output: \"a5b3c3bca7cd4b3\"\n",
    "print(compress_algorithm(\"aabbccdddd\"))      # Output: \"a2b2c2d4\""
   ]
  },
  {
   "cell_type": "code",
   "execution_count": null,
   "metadata": {},
   "outputs": [],
   "source": []
  }
 ],
 "metadata": {
  "kernelspec": {
   "display_name": "Python 3",
   "language": "python",
   "name": "python3"
  },
  "language_info": {
   "codemirror_mode": {
    "name": "ipython",
    "version": 3
   },
   "file_extension": ".py",
   "mimetype": "text/x-python",
   "name": "python",
   "nbconvert_exporter": "python",
   "pygments_lexer": "ipython3",
   "version": "3.8.1"
  }
 },
 "nbformat": 4,
 "nbformat_minor": 4
}
